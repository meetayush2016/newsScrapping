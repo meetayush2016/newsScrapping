{
 "cells": [
  {
   "cell_type": "code",
   "execution_count": 1,
   "id": "771b831e",
   "metadata": {},
   "outputs": [],
   "source": [
    "import requests\n",
    "from bs4 import BeautifulSoup"
   ]
  },
  {
   "cell_type": "code",
   "execution_count": 2,
   "id": "d8c294ef",
   "metadata": {},
   "outputs": [],
   "source": [
    "def scrape_news_website(url, keyword):\n",
    "    news_articles = []\n",
    "    response = requests.get(url)\n",
    "    soup = BeautifulSoup(response.content, 'html.parser')\n",
    "\n",
    "    articles = soup.find_all('article')\n",
    "\n",
    "    for article in articles:\n",
    "        title_element = article.find('h2')\n",
    "        summary_element = article.find('p')\n",
    "        link_element = article.find('a')\n",
    "\n",
    "        if title_element and summary_element and link_element:\n",
    "            title = title_element.text.strip() if title_element else \"\"\n",
    "            summary = summary_element.text.strip() if summary_element else \"\"\n",
    "            link = link_element.get('href') if link_element else \"\"\n",
    "\n",
    "            if keyword.lower() in title.lower():\n",
    "                news_article = {\n",
    "                    'title': title,\n",
    "                    'summary': summary,\n",
    "                    'link': link\n",
    "                }\n",
    "\n",
    "                news_articles.append(news_article)\n",
    "\n",
    "    return news_articles\n"
   ]
  },
  {
   "cell_type": "code",
   "execution_count": 3,
   "id": "ccb787d8",
   "metadata": {},
   "outputs": [
    {
     "name": "stdout",
     "output_type": "stream",
     "text": [
      "Title: To reduce motion sickness in VR, Apple developed the new R1 chip\n",
      "Summary: At WWDC today, Apple showed off its Vision Pro VR/AR headset. The device is powered by the company’s own M2 chip, but in order to do the real-time processing from the company’s wall of sensors, Apple had to develop a brand-new processor, too — which it dubs the R1.\r\n",
      "\r\n",
      "            The R1 chip is taking all the sensors embedded into the headset to create precise head and hand tracking, along with real-time 3D mapping and eye-tracking.\r\n",
      "            \r\n",
      "            The specialized chip was designed specifically for the challenging task of real-time sensor processing, taking the input from 12 cameras, five sensors (including a lidar sensor!) and six microphones. The company claims it can process the sensor data within 12 milliseconds — eight times faster than the blink of an eye — and says this will dramatically reduce the motion sickness plaguing many other AR/VR systems.\n",
      "Link: https://techcrunch.com/2023/06/05/apple-r1-chip-apple-vision-pro/\n",
      "---\n"
     ]
    }
   ],
   "source": [
    "websites = [\"https://meetayush2016.github.io/newsScrapping/\"]\n",
    "keyword = \"apple\"\n",
    "all_news_articles = []\n",
    "\n",
    "for website in websites:\n",
    "    news_articles = scrape_news_website(website, keyword)\n",
    "    all_news_articles.extend(news_articles)\n",
    "\n",
    "for article in all_news_articles:\n",
    "    print('Title:', article['title'])\n",
    "    print('Summary:', article['summary'])\n",
    "    print('Link:', article['link'])\n",
    "    print('---')"
   ]
  },
  {
   "cell_type": "code",
   "execution_count": null,
   "id": "e91024a2",
   "metadata": {},
   "outputs": [],
   "source": []
  }
 ],
 "metadata": {
  "kernelspec": {
   "display_name": "Python 3 (ipykernel)",
   "language": "python",
   "name": "python3"
  },
  "language_info": {
   "codemirror_mode": {
    "name": "ipython",
    "version": 3
   },
   "file_extension": ".py",
   "mimetype": "text/x-python",
   "name": "python",
   "nbconvert_exporter": "python",
   "pygments_lexer": "ipython3",
   "version": "3.10.9"
  }
 },
 "nbformat": 4,
 "nbformat_minor": 5
}
